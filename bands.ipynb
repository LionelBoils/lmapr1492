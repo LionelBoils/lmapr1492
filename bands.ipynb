{
 "cells": [
  {
   "cell_type": "code",
   "execution_count": 14,
   "metadata": {},
   "outputs": [
    {
     "name": "stdout",
     "output_type": "stream",
     "text": [
      "{'direct': False, 'energy': 1.2207999999999997, 'transition': 'F-Z'}\n",
      "maximum de la bande de valence:\n",
      "énergie:  4.7717 eV\n",
      "vecteur d onde k:  [0.5 0.5 0. ] [ 0.51532624  0.         -0.91698797] F\n",
      "minimum de la bande de conduction\n",
      "énergie:  5.9925 eV\n",
      "vecteur d onde k:  [0.5 0.5 0. ] [ 0.51532624  0.         -0.91698797] F\n",
      "5.022866009726962e-32\n",
      "9.896234964541278e-33\n"
     ]
    }
   ],
   "source": [
    "import numpy as np\n",
    "from pymatgen.ext.matproj import MPRester\n",
    "with MPRester (\"Js0y7wlKAQ1kbIXr\") as m:\n",
    "    structure = m.get_structure_by_material_id(\"mp-11178\")\n",
    "#on reprend la structure de bande depuis MP\n",
    "bandstructure=m.get_bandstructure_by_material_id(\"mp-11178\")\n",
    "#on détermine la bande interdite\n",
    "bandgap=bandstructure.get_band_gap()\n",
    "print(bandgap)\n",
    "\n",
    "#extrema des bandes\n",
    "maxvalence=bandstructure.get_vbm()\n",
    "minconduction=bandstructure.get_cbm()\n",
    "en_valence=maxvalence['energy']\n",
    "k_valence= maxvalence['kpoint']\n",
    "\n",
    "en_conduction=minconduction['energy']\n",
    "k_conduction= minconduction['kpoint']\n",
    "\n",
    "print(\"maximum de la bande de valence:\")\n",
    "print(\"énergie: \",en_valence,\"eV\")\n",
    "print(\"vecteur d onde k: \", k_valence)\n",
    "\n",
    "print(\"minimum de la bande de conduction\")\n",
    "print(\"énergie: \",en_conduction,\"eV\")\n",
    "print(\"vecteur d onde k: \", k_valence)\n",
    "\n",
    "#masses effectives: l'énergie est donnée par : epsilon=((h_bar)^2*|k|^2)/(2m*), on utilise cette approximation pour\n",
    "#calculer m*\n",
    "planck=6.582119569*10**(-16)#[eV/s]\n",
    "kv_norm=np.linalg.norm(k_valence.cart_coords)#vecteur d'onde valence norme\n",
    "masse_valence=(planck**2*kv_norm**2)/(2*en_valence)\n",
    "print(masse_valence)\n",
    "\n",
    "kc_norm=np.linalg.norm(k_conduction.cart_coords)\n",
    "masse_conduction=(planck**2*kc_norm**2)/(2*en_conduction)\n",
    "print(masse_conduction)"
   ]
  },
  {
   "cell_type": "code",
   "execution_count": null,
   "metadata": {},
   "outputs": [],
   "source": []
  }
 ],
 "metadata": {
  "kernelspec": {
   "display_name": "Python 3",
   "language": "python",
   "name": "python3"
  },
  "language_info": {
   "codemirror_mode": {
    "name": "ipython",
    "version": 3
   },
   "file_extension": ".py",
   "mimetype": "text/x-python",
   "name": "python",
   "nbconvert_exporter": "python",
   "pygments_lexer": "ipython3",
   "version": "3.6.8"
  }
 },
 "nbformat": 4,
 "nbformat_minor": 2
}
