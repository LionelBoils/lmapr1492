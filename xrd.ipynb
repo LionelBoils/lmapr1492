{
 "cells": [
  {
   "cell_type": "code",
   "execution_count": 13,
   "metadata": {},
   "outputs": [
    {
     "name": "stdout",
     "output_type": "stream",
     "text": [
      "Pic 1: 2theta= 14.741764966534442 plan: [{'hkl': (0, 0, 0, 3), 'multiplicity': 2}]\n",
      "Pic 2: 2theta= 28.605715756729147 plan: [{'hkl': (1, 0, -1, 1), 'multiplicity': 12}]\n",
      "Pic 3: 2theta= 29.734838740732894 plan: [{'hkl': (0, 0, 0, 6), 'multiplicity': 2}]\n"
     ]
    }
   ],
   "source": [
    "from pymatgen.analysis.diffraction.xrd import XRDCalculator\n",
    "from pymatgen.ext.matproj import MPRester\n",
    "from pymatgen.symmetry.analyzer import SpacegroupAnalyzer\n",
    "with MPRester (\"Js0y7wlKAQ1kbIXr\") as m:\n",
    "    #telechargement\n",
    "    structure = m.get_structure_by_material_id(\"mp-11178\")\n",
    "    #structure\n",
    "s = SpacegroupAnalyzer(structure)\n",
    "#structure conventionelle\n",
    "simple_s = s.get_conventional_standard_structure()\n",
    "#on crée un XRDCalculator en se rappelant que la longueur d'onde du rayonnement est 1.5406 amstrong\n",
    "xrd=XRDCalculator(1.5406)\n",
    "pat=xrd.get_pattern(simple_s)\n",
    "#2theta est un tableau qui contient les angles entre le rayon incident et le rayon diffracté (2*theta)\n",
    "twotheta=pat.x\n",
    "#indices est un tableau qui contient les indices (h,k,l)\n",
    "indices=pat.hkls\n",
    "#les trois premiers pics et leurs plans:\n",
    "print(\"Pic 1: 2theta=\", twotheta[0], \"plan:\", indices[0])\n",
    "print(\"Pic 2: 2theta=\", twotheta[1], \"plan:\", indices[1])\n",
    "print(\"Pic 3: 2theta=\", twotheta[2], \"plan:\", indices[2])"
   ]
  },
  {
   "cell_type": "code",
   "execution_count": null,
   "metadata": {},
   "outputs": [],
   "source": []
  },
  {
   "cell_type": "code",
   "execution_count": null,
   "metadata": {},
   "outputs": [],
   "source": []
  },
  {
   "cell_type": "code",
   "execution_count": null,
   "metadata": {},
   "outputs": [],
   "source": []
  },
  {
   "cell_type": "code",
   "execution_count": null,
   "metadata": {},
   "outputs": [],
   "source": []
  }
 ],
 "metadata": {
  "kernelspec": {
   "display_name": "Python 3",
   "language": "python",
   "name": "python3"
  },
  "language_info": {
   "codemirror_mode": {
    "name": "ipython",
    "version": 3
   },
   "file_extension": ".py",
   "mimetype": "text/x-python",
   "name": "python",
   "nbconvert_exporter": "python",
   "pygments_lexer": "ipython3",
   "version": "3.6.8"
  }
 },
 "nbformat": 4,
 "nbformat_minor": 2
}
