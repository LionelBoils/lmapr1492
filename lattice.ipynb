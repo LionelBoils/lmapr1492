{
 "cells": [
  {
   "cell_type": "code",
   "execution_count": 8,
   "metadata": {},
   "outputs": [],
   "source": [
    "from pymatgen.ext.matproj import MPRester\n",
    "from pymatgen.symmetry.analyzer import SpacegroupAnalyzer\n",
    "with MPRester (\"Js0y7wlKAQ1kbIXr\") as m:\n",
    "    #telechargement\n",
    "    structure = m.get_structure_by_material_id(\"mp-11178\")\n",
    "    s=SpacegroupAnalyzer(structure)\n",
    "    #vecteurs reseau direct\n",
    "    lattice=structure.lattice\n",
    "    a=lattice.a\n",
    "    b=lattice.b\n",
    "    c=lattice.c\n",
    "    #vecteurs reseau reciproque\n",
    "    reciprocal_lattice=lattice.reciprocal_lattice\n",
    "    #systeme cristallin\n",
    "    crystal_system=s.get_crystal_system()\n",
    "    #type de maille\n",
    "    lattice_type=s.get_lattice_type()\n",
    "    #groupe ponctuel\n",
    "    point_group=s.get_point_group_operations(cartesian=False)\n",
    "    \n",
    "    "
   ]
  },
  {
   "cell_type": "code",
   "execution_count": null,
   "metadata": {},
   "outputs": [],
   "source": []
  },
  {
   "cell_type": "code",
   "execution_count": null,
   "metadata": {},
   "outputs": [],
   "source": []
  }
 ],
 "metadata": {
  "kernelspec": {
   "display_name": "Python 3",
   "language": "python",
   "name": "python3"
  },
  "language_info": {
   "codemirror_mode": {
    "name": "ipython",
    "version": 3
   },
   "file_extension": ".py",
   "mimetype": "text/x-python",
   "name": "python",
   "nbconvert_exporter": "python",
   "pygments_lexer": "ipython3",
   "version": "3.6.8"
  }
 },
 "nbformat": 4,
 "nbformat_minor": 2
}
